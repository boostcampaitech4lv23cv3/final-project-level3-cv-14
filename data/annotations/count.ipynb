{
 "cells": [
  {
   "cell_type": "code",
   "execution_count": 1,
   "metadata": {},
   "outputs": [],
   "source": [
    "import json\n",
    "import os"
   ]
  },
  {
   "cell_type": "code",
   "execution_count": 2,
   "metadata": {},
   "outputs": [],
   "source": [
    "data_path = '/opt/ml/final/data/annotations/train_v1-3.json'\n",
    "train_path = '/opt/ml/final/data/annotations/t_v1-3.json'\n",
    "val_path = '/opt/ml/final/data/annotations/v_v1-3.json'\n",
    "with open(data_path, 'r') as f:\n",
    "    data = json.load(f)\n",
    "with open(train_path, 'r') as f:\n",
    "    train = json.load(f)\n",
    "with open(val_path, 'r') as f:\n",
    "    val = json.load(f)"
   ]
  },
  {
   "cell_type": "code",
   "execution_count": 12,
   "metadata": {},
   "outputs": [],
   "source": [
    "cnt_all = [0 for _ in range(6)]\n",
    "cnt_train = [0 for _ in range(6)]\n",
    "cnt_val = [0 for _ in range(6)]"
   ]
  },
  {
   "cell_type": "code",
   "execution_count": 13,
   "metadata": {},
   "outputs": [],
   "source": [
    "for x in data['annotations']:\n",
    "    if x['category_id'] < 7:\n",
    "        cnt_all[x['category_id']-1] += 1\n",
    "for x in train['annotations']:\n",
    "    if x['category_id'] < 7:\n",
    "        cnt_train[x['category_id']-1] += 1\n",
    "for x in val['annotations']:\n",
    "    if x['category_id'] < 7:\n",
    "        cnt_val[x['category_id']-1] += 1"
   ]
  },
  {
   "cell_type": "code",
   "execution_count": 14,
   "metadata": {},
   "outputs": [
    {
     "name": "stdout",
     "output_type": "stream",
     "text": [
      "[1336, 249, 266, 261, 273, 275]\n",
      "[1012, 187, 199, 199, 211, 204]\n",
      "[324, 62, 67, 62, 62, 71]\n"
     ]
    }
   ],
   "source": [
    "print(cnt_all)\n",
    "print(cnt_train)\n",
    "print(cnt_val)"
   ]
  },
  {
   "cell_type": "code",
   "execution_count": null,
   "metadata": {},
   "outputs": [],
   "source": []
  }
 ],
 "metadata": {
  "kernelspec": {
   "display_name": "base",
   "language": "python",
   "name": "python3"
  },
  "language_info": {
   "codemirror_mode": {
    "name": "ipython",
    "version": 3
   },
   "file_extension": ".py",
   "mimetype": "text/x-python",
   "name": "python",
   "nbconvert_exporter": "python",
   "pygments_lexer": "ipython3",
   "version": "3.8.5"
  },
  "orig_nbformat": 4,
  "vscode": {
   "interpreter": {
    "hash": "d4d1e4263499bec80672ea0156c357c1ee493ec2b1c70f0acce89fc37c4a6abe"
   }
  }
 },
 "nbformat": 4,
 "nbformat_minor": 2
}
